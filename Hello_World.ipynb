{
  "nbformat": 4,
  "nbformat_minor": 0,
  "metadata": {
    "colab": {
      "name": "Hello World.ipynb",
      "provenance": []
    },
    "kernelspec": {
      "name": "python3",
      "display_name": "Python 3"
    },
    "language_info": {
      "name": "python"
    }
  },
  "cells": [
    {
      "cell_type": "code",
      "execution_count": 1,
      "metadata": {
        "id": "QOS47GBhOhCL"
      },
      "outputs": [],
      "source": [
        "stg =\"Hello, World!\""
      ]
    },
    {
      "cell_type": "code",
      "source": [
        "stg\n"
      ],
      "metadata": {
        "colab": {
          "base_uri": "https://localhost:8080/",
          "height": 35
        },
        "id": "zaHuB8ATO5S1",
        "outputId": "08a70894-91f3-486e-8380-0813f7d94414"
      },
      "execution_count": 4,
      "outputs": [
        {
          "output_type": "execute_result",
          "data": {
            "text/plain": [
              "'Hello, World!'"
            ],
            "application/vnd.google.colaboratory.intrinsic+json": {
              "type": "string"
            }
          },
          "metadata": {},
          "execution_count": 4
        }
      ]
    },
    {
      "cell_type": "code",
      "source": [
        "print(stg)"
      ],
      "metadata": {
        "colab": {
          "base_uri": "https://localhost:8080/"
        },
        "id": "uEPeU78wQeiG",
        "outputId": "49684725-ebee-456b-d96c-057a9c214d34"
      },
      "execution_count": 5,
      "outputs": [
        {
          "output_type": "stream",
          "name": "stdout",
          "text": [
            "Hello, World!\n"
          ]
        }
      ]
    },
    {
      "cell_type": "code",
      "source": [
        "my_dict = {'First_Name':'Bryan','Last_Name':'Miranda', 'Age':24}"
      ],
      "metadata": {
        "id": "TbKGxsfxQlc9"
      },
      "execution_count": 11,
      "outputs": []
    }
  ]
}